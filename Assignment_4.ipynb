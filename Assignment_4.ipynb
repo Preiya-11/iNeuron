{
  "nbformat": 4,
  "nbformat_minor": 0,
  "metadata": {
    "colab": {
      "name": "Assignment 4",
      "provenance": []
    },
    "kernelspec": {
      "name": "python3",
      "display_name": "Python 3"
    }
  },
  "cells": [
    {
      "cell_type": "markdown",
      "metadata": {
        "id": "GrueULgfHVWB"
      },
      "source": [
        "1.1 Write a Python Program(with class concepts) to find the area of the triangle using the below\r\n",
        "formula.\r\n",
        "area = (s*(s-a)*(s-b)*(s-c)) ** 0.5\r\n",
        "\r\n",
        "Function to take the length of the sides of triangle from user should be defined in the parent\r\n",
        "class and function to calculate the area should be defined in subclass."
      ]
    },
    {
      "cell_type": "code",
      "metadata": {
        "id": "3i6AOBkwGy2y",
        "colab": {
          "base_uri": "https://localhost:8080/"
        },
        "outputId": "f5375bbf-71d2-4f9a-e569-b84d0a442c25"
      },
      "source": [
        "class Triangle: \r\n",
        " \r\n",
        "    def __init__(self,a,b,c): \r\n",
        "        self.a = float(a) \r\n",
        "        self.b = float(b) \r\n",
        "        self.c = float(c) \r\n",
        " \r\n",
        "    def area(self): \r\n",
        "        s=(self.a + self.b + self.c)/2\r\n",
        "        return((s*(s-self.a)*(s-self.b)*(s-self.c))**0.5) \r\n",
        " \r\n",
        "a=input(\"Enter the value of a = \") \r\n",
        "b=input(\"Enter the value of b = \") \r\n",
        "c=input(\"Enter the value of c = \") \r\n",
        "t = Triangle(a, b, c) \r\n",
        "print(\"area : {}\".format(t.area())) "
      ],
      "execution_count": 6,
      "outputs": [
        {
          "output_type": "stream",
          "text": [
            "Enter the value of a = 12\n",
            "Enter the value of b = 13\n",
            "Enter the value of c = 14\n",
            "area : 72.30793524918272\n"
          ],
          "name": "stdout"
        }
      ]
    },
    {
      "cell_type": "markdown",
      "metadata": {
        "id": "jJMp7XCAHeQP"
      },
      "source": [
        "1.2 Write a function filter_long_words() that takes a list of words and an integer n and returns\r\n",
        "the list of words that are longer than n."
      ]
    },
    {
      "cell_type": "code",
      "metadata": {
        "id": "cvBVvYrFHfCd",
        "colab": {
          "base_uri": "https://localhost:8080/"
        },
        "outputId": "2539414c-33fc-4add-c9dd-64bb1cc61f0c"
      },
      "source": [
        "def long_words(n, str):\r\n",
        "    word_len = []\r\n",
        "    txt = str.split(\" \")\r\n",
        "    for x in txt:\r\n",
        "        if len(x) > n:\r\n",
        "            word_len.append(x)\r\n",
        "    return word_len\t\r\n",
        "print(long_words(4, 'Stress will kill you as fast as the bullet'))"
      ],
      "execution_count": 1,
      "outputs": [
        {
          "output_type": "stream",
          "text": [
            "['Stress', 'bullet']\n"
          ],
          "name": "stdout"
        }
      ]
    },
    {
      "cell_type": "markdown",
      "metadata": {
        "id": "DpAHS2CWHgDH"
      },
      "source": [
        "2.1 Write a Python program using function concept that maps list of words into a list of integers\r\n",
        "representing the lengths of the corresponding words.\r\n",
        "Hint: If a list [ ab,cde,erty] is passed on to the python function output should come as [2,3,4]\r\n",
        "Here 2,3 and 4 are the lengths of the words in the list."
      ]
    },
    {
      "cell_type": "code",
      "metadata": {
        "id": "N76wLexLHj95"
      },
      "source": [
        "words = ['Happy','birthday','to','me']\r\n",
        "length=[]\r\n",
        "def wordlength(words):\r\n",
        " return list(map(lambda x: len(x), words))\r\n",
        "\r\n",
        "result = (wordlength(words))\r\n"
      ],
      "execution_count": 2,
      "outputs": []
    },
    {
      "cell_type": "code",
      "metadata": {
        "id": "aRQB2NEkHkmk",
        "colab": {
          "base_uri": "https://localhost:8080/"
        },
        "outputId": "2022eccc-a2a8-4a4a-bc99-5c22cf7e3793"
      },
      "source": [
        "print(result)"
      ],
      "execution_count": 3,
      "outputs": [
        {
          "output_type": "stream",
          "text": [
            "[5, 8, 2, 2]\n"
          ],
          "name": "stdout"
        }
      ]
    },
    {
      "cell_type": "markdown",
      "metadata": {
        "id": "MsUV--GyHlIz"
      },
      "source": [
        "2.2 Write a Python function which takes a character (i.e. a string of length 1) and returns True if\r\n",
        "it is a vowel, False otherwise."
      ]
    },
    {
      "cell_type": "code",
      "metadata": {
        "id": "z_PdmrExIZIt",
        "colab": {
          "base_uri": "https://localhost:8080/"
        },
        "outputId": "687f25d0-fa32-4f4e-b33a-0dc83ac2c7df"
      },
      "source": [
        "def vowelChecker (inputChar):\r\n",
        " #DocString \r\n",
        " \"\"\" Function to check whether a char is vowel or not \"\"\"\r\n",
        " \r\n",
        " if (inputChar == \"a\" or \"A\" or \"e\" or \"E\" or \"i\" or \"I\" or \"o\" or \"O\" or \"u\" or \"U\"):\r\n",
        "   return True\r\n",
        " else:\r\n",
        "   return False  \r\n",
        "  \r\n",
        "Char = input('Enter the character: ')\r\n",
        " \r\n",
        "if vowelChecker(Char) == True:\r\n",
        " print(\"The enterted character is Vowel\")\r\n",
        "else:\r\n",
        " print(\"The enterted character is not Vowel\")"
      ],
      "execution_count": 4,
      "outputs": [
        {
          "output_type": "stream",
          "text": [
            "Enter the character: m\n",
            "The enterted character is Vowel\n"
          ],
          "name": "stdout"
        }
      ]
    },
    {
      "cell_type": "code",
      "metadata": {
        "id": "i9q2CU_1Ihlp"
      },
      "source": [
        ""
      ],
      "execution_count": null,
      "outputs": []
    }
  ]
}