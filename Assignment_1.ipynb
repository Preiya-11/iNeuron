{
  "nbformat": 4,
  "nbformat_minor": 0,
  "metadata": {
    "colab": {
      "name": "Assignment 1 ",
      "provenance": []
    },
    "kernelspec": {
      "name": "python3",
      "display_name": "Python 3"
    }
  },
  "cells": [
    {
      "cell_type": "markdown",
      "metadata": {
        "id": "xR8l6_rP3XvP"
      },
      "source": [
        "Write a program which will find all such numbers which are divisible by 7 but are not a multiple of 5 between 2000 and 3200(both included).The numbers obtained should be printed in a comma separated sequence on a single line.\r\n",
        "\r\n"
      ]
    },
    {
      "cell_type": "code",
      "metadata": {
        "colab": {
          "base_uri": "https://localhost:8080/"
        },
        "id": "yvLHKi-p2_Pz",
        "outputId": "330755d5-c07b-4f1f-b09a-99ebfd8df257"
      },
      "source": [
        "num=[]\r\n",
        "for i in range(2000, 3200):\r\n",
        "    if (i%7==0) and (i%5!=0):\r\n",
        "        num.append(str(i))\r\n",
        "print (','.join(num))"
      ],
      "execution_count": null,
      "outputs": [
        {
          "output_type": "stream",
          "text": [
            "2002,2009,2016,2023,2037,2044,2051,2058,2072,2079,2086,2093,2107,2114,2121,2128,2142,2149,2156,2163,2177,2184,2191,2198,2212,2219,2226,2233,2247,2254,2261,2268,2282,2289,2296,2303,2317,2324,2331,2338,2352,2359,2366,2373,2387,2394,2401,2408,2422,2429,2436,2443,2457,2464,2471,2478,2492,2499,2506,2513,2527,2534,2541,2548,2562,2569,2576,2583,2597,2604,2611,2618,2632,2639,2646,2653,2667,2674,2681,2688,2702,2709,2716,2723,2737,2744,2751,2758,2772,2779,2786,2793,2807,2814,2821,2828,2842,2849,2856,2863,2877,2884,2891,2898,2912,2919,2926,2933,2947,2954,2961,2968,2982,2989,2996,3003,3017,3024,3031,3038,3052,3059,3066,3073,3087,3094,3101,3108,3122,3129,3136,3143,3157,3164,3171,3178,3192,3199\n"
          ],
          "name": "stdout"
        }
      ]
    },
    {
      "cell_type": "markdown",
      "metadata": {
        "id": "J3PYuWsG9lyj"
      },
      "source": [
        "Write the python programbto accept the user's first and last name and then getting them printed in a reverse order with a space between first name and last name ."
      ]
    },
    {
      "cell_type": "code",
      "metadata": {
        "colab": {
          "base_uri": "https://localhost:8080/"
        },
        "id": "3KJh97SR9OZm",
        "outputId": "784513cc-f3e9-466c-bb3e-9760a3b9e27e"
      },
      "source": [
        "firstname = input(\"What is your first name?:\")\r\n",
        "lastname = input(\"What is your last name?\")\r\n",
        "print(firstname[::-1] + \" \" + lastname[::-1])"
      ],
      "execution_count": null,
      "outputs": [
        {
          "output_type": "stream",
          "text": [
            "What is your first name?:Priya\n",
            "What is your last name?Pawar\n",
            "ayirP rawaP\n"
          ],
          "name": "stdout"
        }
      ]
    },
    {
      "cell_type": "markdown",
      "metadata": {
        "id": "SUPUDBN8A-pU"
      },
      "source": [
        "Write a python program to find the volume of a sphere with diameter 12 cm."
      ]
    },
    {
      "cell_type": "code",
      "metadata": {
        "colab": {
          "base_uri": "https://localhost:8080/"
        },
        "id": "ezopGIeB_-jY",
        "outputId": "5dfd5219-1626-4acc-aa47-9fbbbc4d194e"
      },
      "source": [
        "r = 12/2\r\n",
        "PI = 3.14159265\r\n",
        "V = 4/3*PI*r**3\r\n",
        "print('The volume of sphere is',V)"
      ],
      "execution_count": null,
      "outputs": [
        {
          "output_type": "stream",
          "text": [
            "The volume of sphere is 904.7786831999999\n"
          ],
          "name": "stdout"
        }
      ]
    },
    {
      "cell_type": "code",
      "metadata": {
        "id": "XLoW01PJCR5U"
      },
      "source": [
        ""
      ],
      "execution_count": null,
      "outputs": []
    }
  ]
}