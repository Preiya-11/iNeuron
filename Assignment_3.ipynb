{
  "nbformat": 4,
  "nbformat_minor": 0,
  "metadata": {
    "colab": {
      "name": "Assignment 3",
      "provenance": []
    },
    "kernelspec": {
      "name": "python3",
      "display_name": "Python 3"
    }
  },
  "cells": [
    {
      "cell_type": "markdown",
      "metadata": {
        "id": "SAuTQSXpFC4j"
      },
      "source": [
        "1.1 Write a Python Program to implement your own myreduce() function which works exactly\r\n",
        "like Python's built-in function reduce()"
      ]
    },
    {
      "cell_type": "code",
      "metadata": {
        "id": "nEg206LqFCl7"
      },
      "source": [
        "# Reduce will produce a single result\r\n",
        "def myreduce(anyfunc, sequence):\r\n",
        "\r\n",
        " # Get first item in sequence and assign to result\r\n",
        "  result = sequence[0]\r\n",
        " # iterate over remaining items in sequence and apply reduction function \r\n",
        "  for item in sequence[1:]:\r\n",
        "   result = anyfunc(result, item)\r\n",
        "\r\n",
        "  return result"
      ],
      "execution_count": 35,
      "outputs": []
    },
    {
      "cell_type": "code",
      "metadata": {
        "id": "MKR4_cI8FCVx"
      },
      "source": [
        "# test myreduce function\r\n",
        "def sum(x,y): return x + y"
      ],
      "execution_count": 36,
      "outputs": []
    },
    {
      "cell_type": "code",
      "metadata": {
        "colab": {
          "base_uri": "https://localhost:8080/"
        },
        "id": "Owi_J7-QFCFP",
        "outputId": "f463e805-31e1-4daf-e7aa-0ac2ad503eb8"
      },
      "source": [
        "print (myreduce(sum, [1,2,3])) "
      ],
      "execution_count": 38,
      "outputs": [
        {
          "output_type": "stream",
          "text": [
            "6\n"
          ],
          "name": "stdout"
        }
      ]
    },
    {
      "cell_type": "markdown",
      "metadata": {
        "id": "VGhu1ie1EG74"
      },
      "source": [
        "1.2 Write a Python program to implement your own myfilter() function which works exactly\r\n",
        "like Python's built-in function filter()"
      ]
    },
    {
      "cell_type": "code",
      "metadata": {
        "id": "cZ8LpV30CiPi"
      },
      "source": [
        "# Custom filter function \r\n",
        "def myfilter(anyfunc, sequence):\r\n",
        "\r\n",
        " # Initialize empty list\r\n",
        " result = []\r\n",
        " # iterate over sequence of items in sequence and apply filter function\r\n",
        " for i in sequence:\r\n",
        "  if anyfunc(i):\r\n",
        "   result.append(i)\r\n",
        "\r\n",
        " # return funal output\r\n",
        " return result"
      ],
      "execution_count": 40,
      "outputs": []
    },
    {
      "cell_type": "code",
      "metadata": {
        "id": "a5kXWiswEiil"
      },
      "source": [
        "# test myfilter function\r\n",
        "def ispositive(x):\r\n",
        " if (x <= 0): \r\n",
        "  return False \r\n",
        " else: \r\n",
        "  return True"
      ],
      "execution_count": 41,
      "outputs": []
    },
    {
      "cell_type": "code",
      "metadata": {
        "colab": {
          "base_uri": "https://localhost:8080/"
        },
        "id": "ByeCOgDSEiTP",
        "outputId": "614a1a81-da7a-464b-9d41-128fbc7ec61f"
      },
      "source": [
        "print(myfilter(ispositive, [0,1,-2,3,4,5]))"
      ],
      "execution_count": 42,
      "outputs": [
        {
          "output_type": "stream",
          "text": [
            "[1, 3, 4, 5]\n"
          ],
          "name": "stdout"
        }
      ]
    },
    {
      "cell_type": "markdown",
      "metadata": {
        "id": "uI28FypKF7wZ"
      },
      "source": [
        "2. Implement List comprehensions to produce the following lists.\r\n",
        "Write List comprehensions to produce the following Lists\r\n",
        "\r\n",
        "['A', 'C', 'A', 'D', 'G', 'I', 'L', 'D']\r\n",
        "\r\n",
        "['x', 'xx', 'xxx', 'xxxx', 'y', 'yy', 'yyy', 'yyyy', 'z', 'zz', 'zzz', 'zzzz']\r\n",
        "\r\n",
        "['x', 'y', 'z', 'xx', 'yy', 'zz', 'xxx', 'yyy', 'zzz', 'xxxx', 'yyyy', 'zzzz']\r\n",
        "\r\n",
        "[[2], [3], [4], [3], [4], [5], [4], [5], [6]]\r\n",
        "\r\n",
        "[[2, 3, 4, 5], [3, 4, 5, 6],[4, 5, 6, 7], [5, 6, 7, 8]]\r\n",
        "\r\n",
        "[(1, 1), (2, 1), (3, 1), (1, 2), (2, 2), (3, 2), (1, 3), (2, 3), (3, 3)]"
      ]
    },
    {
      "cell_type": "code",
      "metadata": {
        "colab": {
          "base_uri": "https://localhost:8080/"
        },
        "id": "cU2qX5yj1_g3",
        "outputId": "f0d1e3e0-8493-4541-fb83-89b6f75f0b28"
      },
      "source": [
        "S = 'ACADGILD'\r\n",
        "[x for x in S if x !=\" \"]"
      ],
      "execution_count": 27,
      "outputs": [
        {
          "output_type": "execute_result",
          "data": {
            "text/plain": [
              "['A', 'C', 'A', 'D', 'G', 'I', 'L', 'D']"
            ]
          },
          "metadata": {
            "tags": []
          },
          "execution_count": 27
        }
      ]
    },
    {
      "cell_type": "code",
      "metadata": {
        "colab": {
          "base_uri": "https://localhost:8080/"
        },
        "id": "hzAvJHQY39pE",
        "outputId": "1c78e99f-b5b6-4f6f-a735-8f975f4ffc57"
      },
      "source": [
        "[l*i for l in 'xyz' for i in range(1,5)]"
      ],
      "execution_count": 3,
      "outputs": [
        {
          "output_type": "execute_result",
          "data": {
            "text/plain": [
              "['x', 'xx', 'xxx', 'xxxx', 'y', 'yy', 'yyy', 'yyyy', 'z', 'zz', 'zzz', 'zzzz']"
            ]
          },
          "metadata": {
            "tags": []
          },
          "execution_count": 3
        }
      ]
    },
    {
      "cell_type": "code",
      "metadata": {
        "colab": {
          "base_uri": "https://localhost:8080/"
        },
        "id": "_DkjykbT4own",
        "outputId": "503aae58-79cf-4f43-c0d0-99ddb23dde13"
      },
      "source": [
        "[i*l for l in range(1,5) for i in 'xyz']"
      ],
      "execution_count": 10,
      "outputs": [
        {
          "output_type": "execute_result",
          "data": {
            "text/plain": [
              "['x', 'y', 'z', 'xx', 'yy', 'zz', 'xxx', 'yyy', 'zzz', 'xxxx', 'yyyy', 'zzzz']"
            ]
          },
          "metadata": {
            "tags": []
          },
          "execution_count": 10
        }
      ]
    },
    {
      "cell_type": "code",
      "metadata": {
        "colab": {
          "base_uri": "https://localhost:8080/"
        },
        "id": "hallbovi4siB",
        "outputId": "460c285f-d423-441a-ca6a-23e4324ad023"
      },
      "source": [
        "input_list = [2,3,4]\r\n",
        "result = [ [i+n] for i in input_list for n in range(0,3)]\r\n",
        "print(result)"
      ],
      "execution_count": 26,
      "outputs": [
        {
          "output_type": "stream",
          "text": [
            "[[2], [3], [4], [3], [4], [5], [4], [5], [6]]\n"
          ],
          "name": "stdout"
        }
      ]
    },
    {
      "cell_type": "code",
      "metadata": {
        "colab": {
          "base_uri": "https://localhost:8080/"
        },
        "id": "1UFOp1noAJVT",
        "outputId": "98e96f31-d9b6-4213-95a0-b5fcc0eab348"
      },
      "source": [
        "input_list = [2,3,4,5]\r\n",
        "result =  [[i+n for i in input_list] for n in range(0,4)  ]\r\n",
        "print(result)"
      ],
      "execution_count": 23,
      "outputs": [
        {
          "output_type": "stream",
          "text": [
            "[[2, 3, 4, 5], [3, 4, 5, 6], [4, 5, 6, 7], [5, 6, 7, 8]]\n"
          ],
          "name": "stdout"
        }
      ]
    },
    {
      "cell_type": "code",
      "metadata": {
        "colab": {
          "base_uri": "https://localhost:8080/"
        },
        "id": "ocLe3Q_hBI2y",
        "outputId": "c934a191-6a4a-4811-c111-e4dbf6d5074d"
      },
      "source": [
        "input_list=[1,2,3]\r\n",
        "result = [ (b,a) for a in input_list for b in input_list]\r\n",
        "print(result)"
      ],
      "execution_count": 25,
      "outputs": [
        {
          "output_type": "stream",
          "text": [
            "[(1, 1), (2, 1), (3, 1), (1, 2), (2, 2), (3, 2), (1, 3), (2, 3), (3, 3)]\n"
          ],
          "name": "stdout"
        }
      ]
    },
    {
      "cell_type": "code",
      "metadata": {
        "id": "mm-UIs4BBpRN"
      },
      "source": [
        ""
      ],
      "execution_count": null,
      "outputs": []
    }
  ]
}