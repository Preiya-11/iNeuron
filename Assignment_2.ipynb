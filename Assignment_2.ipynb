{
  "nbformat": 4,
  "nbformat_minor": 0,
  "metadata": {
    "colab": {
      "name": "Assignment 2",
      "provenance": []
    },
    "kernelspec": {
      "name": "python3",
      "display_name": "Python 3"
    }
  },
  "cells": [
    {
      "cell_type": "code",
      "metadata": {
        "id": "bF-YV69dmBRr"
      },
      "source": [
        "create a below pattern using nested for loop in python\r\n",
        "* \r\n",
        "* * \r\n",
        "* * * \r\n",
        "* * * * \r\n",
        "* * * * * \r\n",
        "* * * * \r\n",
        "* * * \r\n",
        "* * \r\n",
        "*"
      ],
      "execution_count": null,
      "outputs": []
    },
    {
      "cell_type": "code",
      "metadata": {
        "colab": {
          "base_uri": "https://localhost:8080/"
        },
        "id": "E0OTJ1Jhm9G6",
        "outputId": "66dd9834-1d24-4157-f7a1-331b6721e1fa"
      },
      "source": [
        "n = 5\r\n",
        "for i in range(n):\r\n",
        "    for j in range(0, i + 1):\r\n",
        "        print(\"*\", end=' ')\r\n",
        "    print(\"\\r\")\r\n",
        "for i in range( n ,0, -1):\r\n",
        "    for j in range(0, i - 1):\r\n",
        "        print(\"*\", end=' ')\r\n",
        "    print(\"\\r\")\r\n"
      ],
      "execution_count": 9,
      "outputs": [
        {
          "output_type": "stream",
          "text": [
            "* \r\n",
            "* * \r\n",
            "* * * \r\n",
            "* * * * \r\n",
            "* * * * * \r\n",
            "* * * * \r\n",
            "* * * \r\n",
            "* * \r\n",
            "* \r\n",
            "\r\n"
          ],
          "name": "stdout"
        }
      ]
    },
    {
      "cell_type": "code",
      "metadata": {
        "id": "KZLvPrLrsXpd"
      },
      "source": [
        "Write a Python program to reverse a word after accepting the input from the user.\r\n",
        "Sample Output:\r\n",
        "Input word: ineuron\r\n",
        "Output: norueni"
      ],
      "execution_count": null,
      "outputs": []
    },
    {
      "cell_type": "code",
      "metadata": {
        "colab": {
          "base_uri": "https://localhost:8080/"
        },
        "id": "GGlfQbmqoZil",
        "outputId": "2850d46f-904b-49a0-ff37-726d21e8c2eb"
      },
      "source": [
        "P = input('Please enter a word of your choice: ')\r\n",
        "print(P[: : -1])"
      ],
      "execution_count": 16,
      "outputs": [
        {
          "output_type": "stream",
          "text": [
            "Please enter a word of your choice: Pawar\n",
            "rawaP\n"
          ],
          "name": "stdout"
        }
      ]
    },
    {
      "cell_type": "code",
      "metadata": {
        "id": "txnktRUlsQah"
      },
      "source": [
        ""
      ],
      "execution_count": null,
      "outputs": []
    }
  ]
}